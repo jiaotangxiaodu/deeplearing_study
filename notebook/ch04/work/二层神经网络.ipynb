{
 "cells": [
  {
   "cell_type": "code",
   "execution_count": 1,
   "metadata": {},
   "outputs": [],
   "source": [
    "import numpy as np\n",
    "import matplotlib.pyplot as plt"
   ]
  },
  {
   "cell_type": "code",
   "execution_count": 2,
   "metadata": {},
   "outputs": [],
   "source": [
    "def sigmoid(x):\n",
    "    if x.ndim > 1:\n",
    "        return np.array([sigmoid(x_row) for x_row in x])\n",
    "    return 1. / (1. + np.exp(-x))"
   ]
  },
  {
   "cell_type": "code",
   "execution_count": 3,
   "metadata": {},
   "outputs": [],
   "source": [
    "def softmax(x):\n",
    "    if x.ndim > 2:\n",
    "        return np.array([softmax(x_row) for x_row in x])\n",
    "    x_max = np.max(x)\n",
    "    x_offset = x - x_max\n",
    "    ex = np.exp(x_offset)\n",
    "    if ex.ndim == 2:\n",
    "        sum = np.sum(ex, axis=1)\n",
    "        return (ex.T / sum).T\n",
    "    return ex / np.sum(ex)"
   ]
  },
  {
   "cell_type": "code",
   "execution_count": 4,
   "metadata": {},
   "outputs": [],
   "source": [
    "def gradient(f, x, epsilon=1e-6):\n",
    "    g = np.zeros(x.shape, dtype='float')\n",
    "    x_line = x.reshape(-1, order='c')\n",
    "    g_line = g.reshape(-1, order='c')\n",
    "\n",
    "    for i in range(len(x_line)):\n",
    "        tmp = x_line[i]\n",
    "        x_line[i] = x_line[i] + epsilon\n",
    "        y_high = f(tmp + epsilon)\n",
    "        x_line[i] = x_line[i] - epsilon\n",
    "        y_low = f(tmp - epsilon)\n",
    "        g_line[i] = (y_high - y_low) / (2 * epsilon)\n",
    "        x_line[i] = tmp\n",
    "    return g"
   ]
  },
  {
   "cell_type": "code",
   "execution_count": 5,
   "metadata": {},
   "outputs": [],
   "source": [
    "def plot_decision_boundary(model, axis):\n",
    "    x0, x1 = np.meshgrid(\n",
    "        np.linspace(axis[0], axis[1], int((axis[1] - axis[0]) * 100)).reshape(-1, 1),\n",
    "        np.linspace(axis[2], axis[3], int((axis[3] - axis[2]) * 100)).reshape(-1, 1)\n",
    "    )\n",
    "    X_new = np.c_[x0.ravel(), x1.ravel()]\n",
    "    y_predict = model.predict(X_new)\n",
    "    zz = y_predict.reshape(x0.shape)\n",
    "    from matplotlib.colors import ListedColormap\n",
    "    custom_cmap = ListedColormap(['#EF9A9A', '#FFF59D', '#90CAF9'])\n",
    "    plt.contourf(x0, x1, zz, linewidth=5, cmap=custom_cmap)"
   ]
  },
  {
   "cell_type": "code",
   "execution_count": 16,
   "metadata": {},
   "outputs": [],
   "source": [
    "class TwoLayerNet:\n",
    "\n",
    "    def __init__(self, input_size, hidden_size, output_size, std_weight_init=1e-2):\n",
    "        # 初始化param\n",
    "        W1 = std_weight_init * np.random.randn(input_size, hidden_size)\n",
    "        b1 = np.zeros(hidden_size)\n",
    "        W2 = std_weight_init * np.random.randn(hidden_size, output_size)\n",
    "        b2 = np.zeros(output_size)\n",
    "        param = {}\n",
    "        param['W1'], param['b1'], param['W2'], param['b2'] = W1, b1, W2, b2\n",
    "        self.param = param\n",
    "\n",
    "    def fit(self, X, y, max_iter=1.5e3, eta=1e-1):\n",
    "        f = lambda w: self._loss(X, y)\n",
    "        for iter in range(int(max_iter)):\n",
    "            g_w1 = gradient(f, self.param['W1'])\n",
    "            g_b1 = gradient(f, self.param['b1'])\n",
    "            g_w2 = gradient(f, self.param['W2'])\n",
    "            g_b2 = gradient(f, self.param['b2'])\n",
    "            self.param['W1'] = self.param['W1'] - eta * g_w1\n",
    "            self.param['b1'] = self.param['b1'] - eta * g_b1\n",
    "            self.param['W2'] = self.param['W2'] - eta * g_w2\n",
    "            self.param['b2'] = self.param['b2'] - eta * g_b2\n",
    "            if iter % 100 == 0:\n",
    "                loss_val = self._loss(X, y)\n",
    "                print('iter=' + str(iter) + ',loss=' + str(loss_val))\n",
    "        return self\n",
    "\n",
    "    def _loss(self, X, y):\n",
    "        p = self._predict(X)\n",
    "        t = np.eye(p.shape[1], dtype='int')[y]\n",
    "        return self._entropy(p, t)\n",
    "\n",
    "    def _entropy(self, p, t):\n",
    "        if p.ndim > 1:\n",
    "            return np.sum([self._entropy(p_row, t_row) for p_row, t_row in zip(p, t)]) / len(p)\n",
    "        return - t * np.log(p)\n",
    "\n",
    "    def _predict(self, X):\n",
    "        W1, b1 = self.param['W1'], self.param['b1']\n",
    "        W2, b2 = self.param['W2'], self.param['b2']\n",
    "        A1 = X.dot(W1) + b1\n",
    "        Z1 = relu(A1)\n",
    "        A2 = Z1.dot(W2) + b2\n",
    "        Z2 = softmax(A2)\n",
    "        return Z2\n",
    "\n",
    "    def predict(self, X):\n",
    "\n",
    "        W1, b1 = self.param['W1'], self.param['b1']\n",
    "        W2, b2 = self.param['W2'], self.param['b2']\n",
    "        A1 = X.dot(W1) + b1\n",
    "\n",
    "\n",
    "        Z1 = relu(A1)\n",
    "        A2 = Z1.dot(W2) + b2\n",
    "\n",
    "\n",
    "        return np.argmax(A2, axis=1)\n",
    "\n",
    "    def score(self, X, y):\n",
    "        y_predict = self.predict(X)\n",
    "        return np.sum(y_predict == y) / len(y)"
   ]
  },
  {
   "cell_type": "code",
   "execution_count": 9,
   "metadata": {},
   "outputs": [],
   "source": [
    "def relu(x):\n",
    "    return np.maximum(0,x)"
   ]
  },
  {
   "cell_type": "code",
   "execution_count": 17,
   "metadata": {},
   "outputs": [
    {
     "name": "stdout",
     "output_type": "stream",
     "text": [
      "iter=0,loss=0.6551841747735411\n",
      "iter=100,loss=0.6033578681814533\n",
      "iter=200,loss=0.6033535105651131\n",
      "iter=300,loss=0.6033535079061051\n",
      "iter=400,loss=0.6033535079434015\n",
      "iter=500,loss=0.6033535077692861\n",
      "iter=600,loss=0.6033535078992573\n",
      "iter=700,loss=0.603353507864019\n",
      "iter=800,loss=0.6033535078273835\n",
      "iter=900,loss=0.6033535079167399\n",
      "iter=1000,loss=0.603353507871946\n",
      "iter=1100,loss=0.6033535078765183\n",
      "iter=1200,loss=0.6033535079658766\n",
      "iter=1300,loss=0.6033535078790498\n",
      "iter=1400,loss=0.6033535078003283\n"
     ]
    },
    {
     "name": "stderr",
     "output_type": "stream",
     "text": [
      "/usr/local/lib/python3.7/site-packages/ipykernel_launcher.py:11: UserWarning: The following kwargs were not used by contour: 'linewidth'\n",
      "  # This is added back by InteractiveShellApp.init_path()\n"
     ]
    },
    {
     "data": {
      "image/png": "[encoded data removed]",
      "text/plain": [
       "<Figure size 432x288 with 1 Axes>"
      ]
     },
     "metadata": {
      "needs_background": "light"
     },
     "output_type": "display_data"
    }
   ],
   "source": [
    "np.random.seed(666)\n",
    "X = np.random.uniform(-1, 1, 200).reshape((-1, 2))\n",
    "\n",
    "y = np.array(X[:, 1] - 2 * X[:, 0] ** 2 + 1 > 0, dtype='int')\n",
    "random_choice = np.random.choice(len(y), int(len(y) * 0.05), replace=False)\n",
    "twoLayerNet = TwoLayerNet(2, 2, 2)\n",
    "twoLayerNet.fit(X, y)\n",
    "\n",
    "plot_decision_boundary(twoLayerNet, (-1, 1, -1, 1))\n",
    "plt.scatter(X[y == 0, 0], X[y == 0, 1])\n",
    "plt.scatter(X[y == 1, 0], X[y == 1, 1])\n",
    "plt.show()"
   ]
  },
  {
   "cell_type": "code",
   "execution_count": null,
   "metadata": {},
   "outputs": [],
   "source": []
  }
 ],
 "metadata": {
  "kernelspec": {
   "display_name": "Python 3",
   "language": "python",
   "name": "python3"
  },
  "language_info": {
   "codemirror_mode": {
    "name": "ipython",
    "version": 3
   },
   "file_extension": ".py",
   "mimetype": "text/x-python",
   "name": "python",
   "nbconvert_exporter": "python",
   "pygments_lexer": "ipython3",
   "version": "3.7.3"
  }
 },
 "nbformat": 4,
 "nbformat_minor": 2
}
